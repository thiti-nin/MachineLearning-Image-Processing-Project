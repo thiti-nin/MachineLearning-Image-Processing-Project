{
 "cells": [
  {
   "cell_type": "markdown",
   "metadata": {},
   "source": [
    "# **Import Libraries**"
   ]
  },
  {
   "cell_type": "code",
   "execution_count": 1,
   "metadata": {
    "_cell_guid": "b1076dfc-b9ad-4769-8c92-a6c4dae69d19",
    "_uuid": "8f2839f25d086af736a60e9eeb907d3b93b6e0e5",
    "execution": {
     "iopub.execute_input": "2021-06-28T16:53:05.48448Z",
     "iopub.status.busy": "2021-06-28T16:53:05.484064Z",
     "iopub.status.idle": "2021-06-28T16:53:05.875738Z",
     "shell.execute_reply": "2021-06-28T16:53:05.874994Z",
     "shell.execute_reply.started": "2021-06-28T16:53:05.484446Z"
    }
   },
   "outputs": [],
   "source": [
    "%matplotlib inline\n",
    "import tensorflow as tf\n",
    "import numpy as np\n",
    "from numpy.random import seed\n",
    "seed(1)\n",
    "from tensorflow.random import set_seed\n",
    "set_seed(2)\n",
    "from tensorflow import keras\n",
    "from tensorflow.keras.optimizers import Adam\n",
    "from tensorflow.keras.preprocessing.image import ImageDataGenerator\n",
    "import pandas as pd\n",
    "import time\n",
    "import PIL\n",
    "import glob\n",
    "import random\n",
    "from sklearn.model_selection import train_test_split\n",
    "import matplotlib.pyplot as plt\n",
    "from matplotlib.pyplot import imshow\n",
    "import os\n",
    "import skimage\n",
    "from skimage import io\n",
    "import cv2\n",
    "import shutil\n",
    "%matplotlib inline"
   ]
  },
  {
   "cell_type": "markdown",
   "metadata": {},
   "source": [
    "# **Create Dataframes from Images**"
   ]
  },
  {
   "cell_type": "code",
   "execution_count": 2,
   "metadata": {
    "execution": {
     "iopub.execute_input": "2021-06-28T15:05:54.38495Z",
     "iopub.status.busy": "2021-06-28T15:05:54.384616Z",
     "iopub.status.idle": "2021-06-28T15:05:57.305236Z",
     "shell.execute_reply": "2021-06-28T15:05:57.304465Z",
     "shell.execute_reply.started": "2021-06-28T15:05:54.384918Z"
    }
   },
   "outputs": [
    {
     "name": "stdout",
     "output_type": "stream",
     "text": [
      "filepaths:  11520    labels:  11520\n"
     ]
    }
   ],
   "source": [
    "base_path = 'C:\\\\Users\\\\chanp\\\\Desktop\\\\image food\\\\kaggle\\\\train'\n",
    "classes = os.listdir(base_path)\n",
    "filepaths = []\n",
    "labels = []\n",
    "for c in classes:\n",
    "    flist = os.listdir(base_path + '/' + c)\n",
    "    for f in flist:\n",
    "        fpath = os.path.join(base_path, c, f)\n",
    "        filepaths.append(fpath)\n",
    "        labels.append(c)\n",
    "print ('filepaths: ', len(filepaths), '   labels: ', len(labels))"
   ]
  },
  {
   "cell_type": "code",
   "execution_count": 3,
   "metadata": {
    "execution": {
     "iopub.execute_input": "2021-06-28T15:06:37.474727Z",
     "iopub.status.busy": "2021-06-28T15:06:37.47441Z",
     "iopub.status.idle": "2021-06-28T15:06:37.489884Z",
     "shell.execute_reply": "2021-06-28T15:06:37.487908Z",
     "shell.execute_reply.started": "2021-06-28T15:06:37.474698Z"
    }
   },
   "outputs": [
    {
     "name": "stdout",
     "output_type": "stream",
     "text": [
      "29    240\n",
      "41    240\n",
      "44    240\n",
      "33    240\n",
      "31    240\n",
      "35    240\n",
      "09    240\n",
      "25    240\n",
      "08    240\n",
      "18    240\n",
      "10    240\n",
      "37    240\n",
      "17    240\n",
      "13    240\n",
      "15    240\n",
      "32    240\n",
      "39    240\n",
      "12    240\n",
      "11    240\n",
      "21    240\n",
      "47    240\n",
      "20    240\n",
      "16    240\n",
      "04    240\n",
      "36    240\n",
      "24    240\n",
      "27    240\n",
      "00    240\n",
      "30    240\n",
      "43    240\n",
      "22    240\n",
      "23    240\n",
      "01    240\n",
      "14    240\n",
      "03    240\n",
      "28    240\n",
      "26    240\n",
      "19    240\n",
      "40    240\n",
      "07    240\n",
      "42    240\n",
      "05    240\n",
      "38    240\n",
      "45    240\n",
      "06    240\n",
      "34    240\n",
      "02    240\n",
      "46    240\n",
      "Name: labels, dtype: int64\n"
     ]
    }
   ],
   "source": [
    "Fseries=pd.Series(filepaths, name='file_paths')\n",
    "Lseries=pd.Series(labels, name='labels')\n",
    "train_df=pd.concat([Fseries,Lseries], axis=1)\n",
    "train_df=pd.DataFrame(train_df, columns = ['file_paths', 'labels'])\n",
    "print(train_df['labels'].value_counts())"
   ]
  },
  {
   "cell_type": "code",
   "execution_count": 4,
   "metadata": {
    "execution": {
     "iopub.execute_input": "2021-06-28T15:06:50.455633Z",
     "iopub.status.busy": "2021-06-28T15:06:50.455316Z",
     "iopub.status.idle": "2021-06-28T15:06:50.871136Z",
     "shell.execute_reply": "2021-06-28T15:06:50.870416Z",
     "shell.execute_reply.started": "2021-06-28T15:06:50.455604Z"
    }
   },
   "outputs": [
    {
     "name": "stdout",
     "output_type": "stream",
     "text": [
      "filepaths:  1440    labels:  1440\n"
     ]
    }
   ],
   "source": [
    "base_path = 'C:\\\\Users\\\\chanp\\\\Desktop\\\\image food\\\\kaggle\\\\valid'\n",
    "classes = os.listdir(base_path)\n",
    "filepaths = []\n",
    "labels = []\n",
    "for c in classes:\n",
    "    flist = os.listdir(base_path + '/' + c)\n",
    "    for f in flist:\n",
    "        fpath = os.path.join(base_path, c, f)\n",
    "        filepaths.append(fpath)\n",
    "        labels.append(c)\n",
    "print ('filepaths: ', len(filepaths), '   labels: ', len(labels))"
   ]
  },
  {
   "cell_type": "code",
   "execution_count": 5,
   "metadata": {
    "execution": {
     "iopub.execute_input": "2021-06-28T15:07:23.288168Z",
     "iopub.status.busy": "2021-06-28T15:07:23.287833Z",
     "iopub.status.idle": "2021-06-28T15:07:23.298448Z",
     "shell.execute_reply": "2021-06-28T15:07:23.29761Z",
     "shell.execute_reply.started": "2021-06-28T15:07:23.28813Z"
    }
   },
   "outputs": [
    {
     "name": "stdout",
     "output_type": "stream",
     "text": [
      "29    30\n",
      "02    30\n",
      "20    30\n",
      "22    30\n",
      "14    30\n",
      "32    30\n",
      "39    30\n",
      "27    30\n",
      "47    30\n",
      "25    30\n",
      "06    30\n",
      "09    30\n",
      "08    30\n",
      "16    30\n",
      "33    30\n",
      "18    30\n",
      "23    30\n",
      "01    30\n",
      "31    30\n",
      "40    30\n",
      "35    30\n",
      "10    30\n",
      "26    30\n",
      "45    30\n",
      "34    30\n",
      "38    30\n",
      "46    30\n",
      "19    30\n",
      "11    30\n",
      "07    30\n",
      "24    30\n",
      "37    30\n",
      "42    30\n",
      "41    30\n",
      "03    30\n",
      "28    30\n",
      "36    30\n",
      "44    30\n",
      "17    30\n",
      "00    30\n",
      "21    30\n",
      "30    30\n",
      "13    30\n",
      "15    30\n",
      "05    30\n",
      "43    30\n",
      "04    30\n",
      "12    30\n",
      "Name: labels, dtype: int64\n"
     ]
    }
   ],
   "source": [
    "Fseries=pd.Series(filepaths, name='file_paths')\n",
    "Lseries=pd.Series(labels, name='labels')\n",
    "valid_df=pd.concat([Fseries,Lseries], axis=1)\n",
    "valid_df=pd.DataFrame(valid_df, columns = ['file_paths', 'labels'])\n",
    "print(valid_df['labels'].value_counts())"
   ]
  },
  {
   "cell_type": "code",
   "execution_count": 6,
   "metadata": {
    "execution": {
     "iopub.execute_input": "2021-06-28T15:07:36.200735Z",
     "iopub.status.busy": "2021-06-28T15:07:36.200412Z",
     "iopub.status.idle": "2021-06-28T15:07:36.90451Z",
     "shell.execute_reply": "2021-06-28T15:07:36.903676Z",
     "shell.execute_reply.started": "2021-06-28T15:07:36.200703Z"
    }
   },
   "outputs": [
    {
     "name": "stdout",
     "output_type": "stream",
     "text": [
      "filepaths:  1440    labels:  1440\n"
     ]
    }
   ],
   "source": [
    "base_path = 'C:\\\\Users\\\\chanp\\\\Desktop\\\\image food\\\\kaggle\\\\test'\n",
    "classes = os.listdir(base_path)\n",
    "filepaths = []\n",
    "labels = []\n",
    "for c in classes:\n",
    "    flist = os.listdir(base_path + '/' + c)\n",
    "    for f in flist:\n",
    "        fpath = os.path.join(base_path, c, f)\n",
    "        filepaths.append(fpath)\n",
    "        labels.append(c)\n",
    "print ('filepaths: ', len(filepaths), '   labels: ', len(labels))"
   ]
  },
  {
   "cell_type": "code",
   "execution_count": 7,
   "metadata": {
    "execution": {
     "iopub.execute_input": "2021-06-28T15:07:55.032152Z",
     "iopub.status.busy": "2021-06-28T15:07:55.031804Z",
     "iopub.status.idle": "2021-06-28T15:07:55.041817Z",
     "shell.execute_reply": "2021-06-28T15:07:55.04098Z",
     "shell.execute_reply.started": "2021-06-28T15:07:55.032102Z"
    }
   },
   "outputs": [
    {
     "name": "stdout",
     "output_type": "stream",
     "text": [
      "29    30\n",
      "02    30\n",
      "20    30\n",
      "22    30\n",
      "14    30\n",
      "32    30\n",
      "39    30\n",
      "27    30\n",
      "47    30\n",
      "25    30\n",
      "06    30\n",
      "09    30\n",
      "08    30\n",
      "16    30\n",
      "33    30\n",
      "18    30\n",
      "23    30\n",
      "01    30\n",
      "31    30\n",
      "40    30\n",
      "35    30\n",
      "10    30\n",
      "26    30\n",
      "45    30\n",
      "34    30\n",
      "38    30\n",
      "46    30\n",
      "19    30\n",
      "11    30\n",
      "07    30\n",
      "24    30\n",
      "37    30\n",
      "42    30\n",
      "41    30\n",
      "03    30\n",
      "28    30\n",
      "36    30\n",
      "44    30\n",
      "17    30\n",
      "00    30\n",
      "21    30\n",
      "30    30\n",
      "13    30\n",
      "15    30\n",
      "05    30\n",
      "43    30\n",
      "04    30\n",
      "12    30\n",
      "Name: labels, dtype: int64\n"
     ]
    }
   ],
   "source": [
    "Fseries=pd.Series(filepaths, name='file_paths')\n",
    "Lseries=pd.Series(labels, name='labels')\n",
    "test_df=pd.concat([Fseries,Lseries], axis=1)\n",
    "test_df=pd.DataFrame(test_df, columns = ['file_paths', 'labels'])\n",
    "print(test_df['labels'].value_counts())"
   ]
  },
  {
   "cell_type": "markdown",
   "metadata": {},
   "source": [
    "Balanced dataset so no need to augment or remove images. "
   ]
  },
  {
   "cell_type": "markdown",
   "metadata": {},
   "source": [
    "# **Visualize Images**"
   ]
  },
  {
   "cell_type": "code",
   "execution_count": 8,
   "metadata": {
    "execution": {
     "iopub.execute_input": "2021-06-28T15:11:27.828203Z",
     "iopub.status.busy": "2021-06-28T15:11:27.82784Z",
     "iopub.status.idle": "2021-06-28T15:11:27.844268Z",
     "shell.execute_reply": "2021-06-28T15:11:27.843216Z",
     "shell.execute_reply.started": "2021-06-28T15:11:27.828169Z"
    }
   },
   "outputs": [
    {
     "data": {
      "text/plain": [
       "(224, 224, 3)"
      ]
     },
     "execution_count": 8,
     "metadata": {},
     "output_type": "execute_result"
    }
   ],
   "source": [
    "img = plt.imread('C:\\\\Users\\\\chanp\\\\Desktop\\\\image food\\\\kaggle\\\\train\\\\02\\\\0003.jpg')\n",
    "img.shape\n"
   ]
  },
  {
   "cell_type": "code",
   "execution_count": 9,
   "metadata": {
    "execution": {
     "iopub.execute_input": "2021-06-28T15:08:59.394147Z",
     "iopub.status.busy": "2021-06-28T15:08:59.393809Z",
     "iopub.status.idle": "2021-06-28T15:09:00.54426Z",
     "shell.execute_reply": "2021-06-28T15:09:00.543252Z",
     "shell.execute_reply.started": "2021-06-28T15:08:59.394099Z"
    }
   },
   "outputs": [],
   "source": [
    "plt.figure(figsize=(14,10))\n",
    "for i in range(20):\n",
    "    random = np.random.randint(1,len(train_df))\n",
    "    plt.subplot(4,5,i+1)\n",
    "    img = train_df.loc[random,\"file_paths\"]\n",
    "    plt.imshow(plt.imread(img))\n",
    "    plt.title(train_df.loc[random, \"labels\"], size = 10, color = \"black\") \n",
    "    plt.xticks([])\n",
    "    plt.yticks([])\n",
    "    \n",
    "plt.show()"
   ]
  },
  {
   "cell_type": "markdown",
   "metadata": {},
   "source": [
    "Looks like we can perform some zooming and horizontal flips with ImageDataGenerator."
   ]
  },
  {
   "cell_type": "markdown",
   "metadata": {},
   "source": [
    "# **ImageDataGenerator**"
   ]
  },
  {
   "cell_type": "code",
   "execution_count": null,
   "metadata": {
    "execution": {
     "iopub.execute_input": "2021-06-28T15:13:33.345121Z",
     "iopub.status.busy": "2021-06-28T15:13:33.344795Z",
     "iopub.status.idle": "2021-06-28T15:13:38.774169Z",
     "shell.execute_reply": "2021-06-28T15:13:38.772392Z",
     "shell.execute_reply.started": "2021-06-28T15:13:33.345079Z"
    }
   },
   "outputs": [],
   "source": [
    "target_size=(224,224)\n",
    "batch_size=64\n",
    "train_datagen = ImageDataGenerator(preprocessing_function=tf.keras.applications.efficientnet.preprocess_input, zoom_range=0.2, horizontal_flip=True)\n",
    "test_datagen = ImageDataGenerator(preprocessing_function=tf.keras.applications.efficientnet.preprocess_input)\n",
    "train_gen = train_datagen.flow_from_dataframe(train_df, x_col='file_paths', y_col='labels', target_size=target_size, batch_size=batch_size, color_mode='rgb', class_mode='categorical')\n",
    "valid_gen = test_datagen.flow_from_dataframe(valid_df, x_col='file_paths', y_col='labels', target_size=target_size, batch_size=batch_size, color_mode='rgb', class_mode='categorical')\n",
    "test_gen = test_datagen.flow_from_dataframe(test_df, x_col='file_paths', y_col='labels', target_size=target_size, batch_size=batch_size, color_mode='rgb', class_mode='categorical')"
   ]
  },
  {
   "cell_type": "markdown",
   "metadata": {},
   "source": [
    "# **EfficientNetB0-based model**"
   ]
  },
  {
   "cell_type": "code",
   "execution_count": null,
   "metadata": {
    "execution": {
     "iopub.execute_input": "2021-06-28T15:14:53.45854Z",
     "iopub.status.busy": "2021-06-28T15:14:53.458218Z",
     "iopub.status.idle": "2021-06-28T15:14:58.541372Z",
     "shell.execute_reply": "2021-06-28T15:14:58.540616Z",
     "shell.execute_reply.started": "2021-06-28T15:14:53.458512Z"
    }
   },
   "outputs": [],
   "source": [
    "base_model = tf.keras.applications.EfficientNetB0(include_top=False, input_shape=(224,224,3), weights='imagenet')\n",
    "model = tf.keras.Sequential([\n",
    "    base_model, \n",
    "    tf.keras.layers.GlobalAveragePooling2D(), \n",
    "    tf.keras.layers.Dense(128, activation='relu'),\n",
    "    tf.keras.layers.BatchNormalization(), \n",
    "    tf.keras.layers.Dropout(0.2), \n",
    "    tf.keras.layers.Dense(48, activation='softmax')\n",
    "])"
   ]
  },
  {
   "cell_type": "code",
   "execution_count": null,
   "metadata": {
    "execution": {
     "iopub.execute_input": "2021-06-28T15:15:18.49478Z",
     "iopub.status.busy": "2021-06-28T15:15:18.494454Z",
     "iopub.status.idle": "2021-06-28T15:15:18.513665Z",
     "shell.execute_reply": "2021-06-28T15:15:18.512954Z",
     "shell.execute_reply.started": "2021-06-28T15:15:18.494742Z"
    }
   },
   "outputs": [],
   "source": [
    "lr=0.001\n",
    "model.compile(loss='categorical_crossentropy', optimizer=Adam(lr=lr), metrics=['accuracy'])"
   ]
  },
  {
   "cell_type": "markdown",
   "metadata": {},
   "source": [
    "# **Callbacks**"
   ]
  },
  {
   "cell_type": "code",
   "execution_count": null,
   "metadata": {
    "execution": {
     "iopub.execute_input": "2021-06-28T15:15:37.429993Z",
     "iopub.status.busy": "2021-06-28T15:15:37.429667Z",
     "iopub.status.idle": "2021-06-28T15:15:37.435571Z",
     "shell.execute_reply": "2021-06-28T15:15:37.434369Z",
     "shell.execute_reply.started": "2021-06-28T15:15:37.429963Z"
    }
   },
   "outputs": [],
   "source": [
    "patience = 2\n",
    "stop_patience = 5\n",
    "factor = 0.5\n",
    "\n",
    "callbacks = [\n",
    "    tf.keras.callbacks.ModelCheckpoint(\"classify_model.h5\", save_best_only=True, verbose = 0),\n",
    "    tf.keras.callbacks.EarlyStopping(patience=stop_patience, monitor='val_loss', verbose=1, restore_best_weights=True),\n",
    "    tf.keras.callbacks.ReduceLROnPlateau(monitor='val_loss', factor=factor, patience=patience, verbose=1)\n",
    "]\n",
    "model.summary()"
   ]
  },
  {
   "cell_type": "markdown",
   "metadata": {},
   "source": [
    "# **Training**"
   ]
  },
  {
   "cell_type": "code",
   "execution_count": null,
   "metadata": {
    "execution": {
     "iopub.execute_input": "2021-06-28T15:15:54.15868Z",
     "iopub.status.busy": "2021-06-28T15:15:54.158364Z",
     "iopub.status.idle": "2021-06-28T16:36:07.215715Z",
     "shell.execute_reply": "2021-06-28T16:36:07.214979Z",
     "shell.execute_reply.started": "2021-06-28T15:15:54.158649Z"
    }
   },
   "outputs": [],
   "source": [
    "epochs = 30\n",
    "history = model.fit(train_gen, validation_data=valid_gen, epochs=epochs, callbacks=callbacks, verbose=1)"
   ]
  },
  {
   "cell_type": "code",
   "execution_count": null,
   "metadata": {
    "execution": {
     "iopub.execute_input": "2021-06-28T16:50:11.433363Z",
     "iopub.status.busy": "2021-06-28T16:50:11.432975Z",
     "iopub.status.idle": "2021-06-28T16:50:11.723039Z",
     "shell.execute_reply": "2021-06-28T16:50:11.722323Z",
     "shell.execute_reply.started": "2021-06-28T16:50:11.43333Z"
    }
   },
   "outputs": [],
   "source": [
    "plt.plot(history.history['loss'], label='Loss (training data)')\n",
    "plt.plot(history.history['val_loss'], label='Loss (validation data)')\n",
    "plt.title('Loss for Training')\n",
    "plt.ylabel('Loss')\n",
    "plt.xlabel('No. epoch')\n",
    "plt.legend(['train', 'validation'], loc=\"upper left\")\n",
    "plt.show()\n",
    "plt.plot(history.history['accuracy'])\n",
    "plt.plot(history.history['val_accuracy'])\n",
    "plt.title('model accuracy')\n",
    "plt.ylabel('accuracy')\n",
    "plt.xlabel('epoch')\n",
    "plt.legend(['train', 'validation'], loc='upper left')\n",
    "plt.show()"
   ]
  },
  {
   "cell_type": "markdown",
   "metadata": {},
   "source": [
    "# **Predictions on Test Set**"
   ]
  },
  {
   "cell_type": "code",
   "execution_count": null,
   "metadata": {
    "execution": {
     "iopub.execute_input": "2021-06-28T16:50:23.273871Z",
     "iopub.status.busy": "2021-06-28T16:50:23.273553Z",
     "iopub.status.idle": "2021-06-28T16:50:37.588184Z",
     "shell.execute_reply": "2021-06-28T16:50:37.587389Z",
     "shell.execute_reply.started": "2021-06-28T16:50:23.273842Z"
    }
   },
   "outputs": [],
   "source": [
    "best_model = model\n",
    "best_model.load_weights('./classify_model.h5')\n",
    "best_model.evaluate(test_gen)"
   ]
  },
  {
   "cell_type": "markdown",
   "metadata": {},
   "source": [
    "# **Predictions on Random Google Images**"
   ]
  },
  {
   "cell_type": "code",
   "execution_count": null,
   "metadata": {
    "execution": {
     "iopub.execute_input": "2021-06-28T16:53:29.301244Z",
     "iopub.status.busy": "2021-06-28T16:53:29.300916Z",
     "iopub.status.idle": "2021-06-28T16:53:29.306997Z",
     "shell.execute_reply": "2021-06-28T16:53:29.305952Z",
     "shell.execute_reply.started": "2021-06-28T16:53:29.301213Z"
    }
   },
   "outputs": [],
   "source": [
    "labels_dict = test_gen.class_indices\n",
    "key_list = list(labels_dict.keys())\n",
    "val_list = list(labels_dict.values())"
   ]
  },
  {
   "cell_type": "code",
   "execution_count": null,
   "metadata": {
    "execution": {
     "iopub.execute_input": "2021-06-28T16:53:09.128661Z",
     "iopub.status.busy": "2021-06-28T16:53:09.12835Z",
     "iopub.status.idle": "2021-06-28T16:53:09.135391Z",
     "shell.execute_reply": "2021-06-28T16:53:09.134515Z",
     "shell.execute_reply.started": "2021-06-28T16:53:09.128632Z"
    }
   },
   "outputs": [],
   "source": [
    "def predict_image(img_url):\n",
    "    img=io.imread(img_url)\n",
    "    img = cv2.cvtColor(img, cv2.COLOR_BGR2RGB)\n",
    "    resized_img = cv2.resize(img, (224, 224))\n",
    "    img_tensor = tf.convert_to_tensor(resized_img, dtype=tf.float32)\n",
    "    img_tensor = tf.expand_dims(img_tensor, 0)\n",
    "    prediction = best_model.predict(img_tensor, use_multiprocessing=True)\n",
    "    prediction = prediction.argmax()\n",
    "    position = val_list.index(prediction)\n",
    "    label = key_list[position]\n",
    "    plt.figure(figsize=(14,10)) \n",
    "    plt.imshow(cv2.cvtColor(img, cv2.COLOR_BGR2RGB))\n",
    "    plt.title(label, size = 10, color = \"black\")\n",
    "    plt.xticks([])\n",
    "    plt.yticks([])\n",
    "    plt.show"
   ]
  },
  {
   "cell_type": "code",
   "execution_count": null,
   "metadata": {
    "execution": {
     "iopub.execute_input": "2021-06-28T16:53:31.53487Z",
     "iopub.status.busy": "2021-06-28T16:53:31.534543Z",
     "iopub.status.idle": "2021-06-28T16:53:32.625838Z",
     "shell.execute_reply": "2021-06-28T16:53:32.624985Z",
     "shell.execute_reply.started": "2021-06-28T16:53:31.53484Z"
    }
   },
   "outputs": [],
   "source": [
    "predict_image('https://www.thespruceeats.com/thmb/m7lyKJKk2x7ezOnDM_oHncbP1xg=/1776x1332/smart/filters:no_upscale()/thai-green-curry-recipe-p3-3217442-hero-1-a3fcdfbc551849718c7750fa63ec8c6a.jpg')"
   ]
  },
  {
   "cell_type": "markdown",
   "metadata": {},
   "source": [
    "Predicted chicken green curry as desired."
   ]
  },
  {
   "cell_type": "code",
   "execution_count": null,
   "metadata": {
    "execution": {
     "iopub.execute_input": "2021-06-28T16:56:38.248555Z",
     "iopub.status.busy": "2021-06-28T16:56:38.248222Z",
     "iopub.status.idle": "2021-06-28T16:56:39.097622Z",
     "shell.execute_reply": "2021-06-28T16:56:39.096457Z",
     "shell.execute_reply.started": "2021-06-28T16:56:38.248525Z"
    }
   },
   "outputs": [],
   "source": [
    "predict_image('https://3.bp.blogspot.com/_Liz-VpvKDvo/TLusgS1s_QI/AAAAAAAAFDA/NqurYE8r5wI/s1600/khaijiao+cover.jpg')"
   ]
  },
  {
   "cell_type": "markdown",
   "metadata": {},
   "source": [
    "Predicted fried fish-paste balls instead of omelet."
   ]
  },
  {
   "cell_type": "code",
   "execution_count": null,
   "metadata": {
    "execution": {
     "iopub.execute_input": "2021-06-28T16:58:03.146477Z",
     "iopub.status.busy": "2021-06-28T16:58:03.1461Z",
     "iopub.status.idle": "2021-06-28T16:58:05.501147Z",
     "shell.execute_reply": "2021-06-28T16:58:05.50032Z",
     "shell.execute_reply.started": "2021-06-28T16:58:03.146446Z"
    }
   },
   "outputs": [],
   "source": [
    "predict_image('https://www.thespruceeats.com/thmb/Agleg-0qGlXWpgnHEGQUmVJoSlg=/4160x3120/smart/filters:no_upscale()/som-tam-thai-green-papaya-salad-3217407-hero-01-9e4281d9e4a64b0e8bb4930debcef3a3.jpg')"
   ]
  },
  {
   "cell_type": "markdown",
   "metadata": {},
   "source": [
    "Predicted stir-fried chinese morning glory instead of green papaya salad."
   ]
  },
  {
   "cell_type": "code",
   "execution_count": null,
   "metadata": {
    "execution": {
     "iopub.execute_input": "2021-06-28T17:00:14.239386Z",
     "iopub.status.busy": "2021-06-28T17:00:14.239019Z",
     "iopub.status.idle": "2021-06-28T17:00:15.062891Z",
     "shell.execute_reply": "2021-06-28T17:00:15.062077Z",
     "shell.execute_reply.started": "2021-06-28T17:00:14.239355Z"
    }
   },
   "outputs": [],
   "source": [
    "predict_image('https://c8.alamy.com/comp/S0X6JP/grilled-giant-river-prawn-S0X6JP.jpg')"
   ]
  },
  {
   "cell_type": "markdown",
   "metadata": {},
   "source": [
    "Predicted mango sticky rice instead of grilled river prawn."
   ]
  },
  {
   "cell_type": "markdown",
   "metadata": {},
   "source": [
    "Thanks for reading this notebook! Make sure to leave an upvote if this helped you out 😀 ."
   ]
  }
 ],
 "metadata": {
  "kernelspec": {
   "display_name": "Python 3 (ipykernel)",
   "language": "python",
   "name": "python3"
  },
  "language_info": {
   "codemirror_mode": {
    "name": "ipython",
    "version": 3
   },
   "file_extension": ".py",
   "mimetype": "text/x-python",
   "name": "python",
   "nbconvert_exporter": "python",
   "pygments_lexer": "ipython3",
   "version": "3.8.11"
  }
 },
 "nbformat": 4,
 "nbformat_minor": 4
}
